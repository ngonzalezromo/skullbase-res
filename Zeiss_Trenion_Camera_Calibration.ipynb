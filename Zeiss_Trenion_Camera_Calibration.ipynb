{
  "cells": [
    {
      "cell_type": "markdown",
      "metadata": {
        "id": "view-in-github",
        "colab_type": "text"
      },
      "source": [
        "<a href=\"https://colab.research.google.com/github/ngonzalezromo/skullbase-res/blob/main/Zeiss_Trenion_Camera_Calibration.ipynb\" target=\"_parent\"><img src=\"https://colab.research.google.com/assets/colab-badge.svg\" alt=\"Open In Colab\"/></a>"
      ]
    },
    {
      "cell_type": "markdown",
      "metadata": {
        "id": "MF9GpGfHbn5C"
      },
      "source": [
        "Skullbaseresearch.com\n"
      ]
    },
    {
      "cell_type": "code",
      "source": [
        "from google.colab import drive\n",
        "drive.mount('/content/drive')"
      ],
      "metadata": {
        "colab": {
          "base_uri": "https://localhost:8080/"
        },
        "id": "V9N9fJP_fKD4",
        "outputId": "bb2b4daf-b684-4149-cf31-1b5aaec2951e"
      },
      "execution_count": 1,
      "outputs": [
        {
          "output_type": "stream",
          "name": "stdout",
          "text": [
            "Mounted at /content/drive\n"
          ]
        }
      ]
    },
    {
      "cell_type": "code",
      "execution_count": 2,
      "metadata": {
        "id": "g4Fpu4ZUPZ3J"
      },
      "outputs": [],
      "source": [
        "# Import dependencies\n",
        "import numpy as np\n",
        "from numpy import os\n",
        "import cv2\n",
        "from glob import glob\n",
        "from google.colab.patches import cv2_imshow\n",
        "import matplotlib.pyplot as plt"
      ]
    },
    {
      "cell_type": "code",
      "execution_count": 53,
      "metadata": {
        "id": "80ruAQ5FPZ3J"
      },
      "outputs": [],
      "source": [
        "#Find chessboard corners\n",
        "left_mask = \"/content/drive/MyDrive/stereoLeft/*.JPG\"\n",
        "right_mask= \"/content/drive/MyDrive/stereoRight/*.JPG\"\n",
        "chessboardSize = (9,6)\n",
        "figsize = (80, 80)\n"
      ]
    },
    {
      "cell_type": "code",
      "execution_count": 88,
      "metadata": {
        "id": "_MyGd2jBE3dx"
      },
      "outputs": [],
      "source": [
        "# termination criteria\n",
        "criteria = (cv2.TERM_CRITERIA_EPS + cv2.TERM_CRITERIA_MAX_ITER, 30, 0.001)\n",
        "\n",
        "# prepare object points, like (0,0,0), (1,0,0), (2,0,0) ....,(6,5,0)\n",
        "objp = np.zeros((chessboardSize[0] * chessboardSize[1], 3), np.float32)\n",
        "objp[:,:2] = np.mgrid[0:chessboardSize[0],0:chessboardSize[1]].T.reshape(-1,2)*5 # 5 mm square size\n",
        "\n",
        "# Arrays to store object points and image points from all the images.\n",
        "objpoints = [] # 3d point in real world space\n",
        "imgpointsL = [] # 2d points in image plane.\n",
        "imgpointsR = [] # 2d points in image plane."
      ]
    },
    {
      "cell_type": "code",
      "execution_count": 80,
      "metadata": {
        "id": "FJ_mmmJxFISa"
      },
      "outputs": [],
      "source": [
        "#Define path of pictures \n",
        "imagesLeft = glob(left_mask)\n",
        "imagesRight = glob(right_mask)"
      ]
    },
    {
      "cell_type": "code",
      "execution_count": 81,
      "metadata": {
        "id": "XR20YcE1FbCQ"
      },
      "outputs": [],
      "source": [
        "for imgLeft, imgRight in zip(imagesLeft, imagesRight):\n",
        "\n",
        "    imgL = cv2.imread(imgLeft)\n",
        "    imgR = cv2.imread(imgRight)\n",
        "    grayL = cv2.cvtColor(imgL, cv2.COLOR_BGR2GRAY)\n",
        "    grayR = cv2.cvtColor(imgR, cv2.COLOR_BGR2GRAY)\n",
        "\n",
        "    # Find the chess board corners\n",
        "    retL, cornersL = cv2.findChessboardCorners(grayL, chessboardSize, None)\n",
        "    retR, cornersR = cv2.findChessboardCorners(grayR, chessboardSize, None)\n",
        "\n",
        "    # If found, add object points, image points (after refining them)\n",
        "    if retL and retR == True:\n",
        "\n",
        "        objpoints.append(objp)\n",
        "\n",
        "        cornersL = cv2.cornerSubPix(grayL, cornersL, (11,11), (-1,-1), criteria)\n",
        "        imgpointsL.append(cornersL)\n",
        "\n",
        "        cornersR = cv2.cornerSubPix(grayR, cornersR, (11,11), (-1,-1), criteria)\n",
        "        imgpointsR.append(cornersR)\n",
        "\n",
        "        # Draw and display the corners\n",
        "        img_l_corners= cv2.drawChessboardCorners(imgL, chessboardSize, cornersL, retL)\n",
        "        img_r_corners= cv2.drawChessboardCorners(imgR, chessboardSize, cornersR, retR)\n",
        "        #cv2_imshow(img_l_corners)\n",
        "        #cv2_imshow(img_r_corners)\n",
        "\n"
      ]
    },
    {
      "cell_type": "code",
      "execution_count": 82,
      "metadata": {
        "id": "ndItN8_fI53p"
      },
      "outputs": [],
      "source": [
        "############## CALIBRATION #######################################################\n",
        "#alpha set to zero, no black pixels are \n",
        "frameSize= (960,1080)\n",
        "retL, cameraMatrixL, distL, rvecsL, tvecsL = cv2.calibrateCamera(objpoints, imgpointsL, frameSize, None,4, None,None,cv2.CALIB_ZERO_TANGENT_DIST)\n",
        "newCameraMatrixL, roi_L = cv2.getOptimalNewCameraMatrix(cameraMatrixL, distL, (960,1080), 0, (960,1080))\n",
        "\n",
        "retR, cameraMatrixR, distR, rvecsR, tvecsR = cv2.calibrateCamera(objpoints, imgpointsR, frameSize, None,4, None, None,cv2.CALIB_ZERO_TANGENT_DIST)\n",
        "newCameraMatrixR, roi_R = cv2.getOptimalNewCameraMatrix(cameraMatrixR, distR, (960,1080), 0, (960,1080))"
      ]
    },
    {
      "cell_type": "code",
      "execution_count": 83,
      "metadata": {
        "colab": {
          "base_uri": "https://localhost:8080/"
        },
        "id": "h6eju0d2Jasj",
        "outputId": "3c202a8b-9372-44f1-d137-8c0451e71159"
      },
      "outputs": [
        {
          "output_type": "stream",
          "name": "stdout",
          "text": [
            "Optimal camera matrix Left camera\n",
            " [[4.07696387e+03 0.00000000e+00 3.68414628e+02]\n",
            " [0.00000000e+00 8.27615234e+03 6.59844896e+02]\n",
            " [0.00000000e+00 0.00000000e+00 1.00000000e+00]]\n",
            "Optimal camera matris Right camera\n",
            " [[4.09485962e+03 0.00000000e+00 4.06613843e+02]\n",
            " [0.00000000e+00 8.35058398e+03 6.28731350e+02]\n",
            " [0.00000000e+00 0.00000000e+00 1.00000000e+00]]\n"
          ]
        }
      ],
      "source": [
        "########## Stereo Vision Calibration #############################################\n",
        "\n",
        "flags = 0\n",
        "flags |= cv2.CALIB_FIX_INTRINSIC\n",
        "# Here we fix the intrinsic camara matrixes so that only Rot, Trns, Emat and Fmat are calculated.\n",
        "# Hence intrinsic parameters are the same \n",
        "\n",
        "criteria_stereo= (cv2.TERM_CRITERIA_EPS + cv2.TERM_CRITERIA_MAX_ITER, 30, 0.001)\n",
        "\n",
        "# This step is performed to transformation between the two cameras and calculate Essential and Fundamenatl matrix\n",
        "retStereo, newCameraMatrixL, distL, newCameraMatrixR, distR, rot, trans, essentialMatrix, fundamentalMatrix = cv2.stereoCalibrate(objpoints, imgpointsL, imgpointsR, newCameraMatrixL, distL, newCameraMatrixR, distR, (960,1080), criteria_stereo, flags)\n",
        "\n",
        "print(\"Optimal camera matrix Left camera\\n\", newCameraMatrixL)\n",
        "print(\"Optimal camera matris Right camera\\n\", newCameraMatrixR)\n"
      ]
    },
    {
      "cell_type": "code",
      "execution_count": 84,
      "metadata": {
        "id": "-5lV6HBmJiyH"
      },
      "outputs": [],
      "source": [
        "########## Stereo Rectification #################################################\n",
        "\n",
        "rectifyScale= 0 #(0, CV_CALIB_ZERO_DISPARITY)\n",
        "rectL, rectR, projMatrixL, projMatrixR, Q, roi_L, roi_R= cv2.stereoRectify(newCameraMatrixL, distL, newCameraMatrixR, distR, (960,1080), rot, trans,0,(0,0))\n",
        "\n",
        "stereoMapL = cv2.initUndistortRectifyMap(newCameraMatrixL, distL, rectL, projMatrixL,(960,1080), cv2.CV_16SC2)\n",
        "stereoMapR = cv2.initUndistortRectifyMap(newCameraMatrixR, distR, rectR, projMatrixR, (960,1080), cv2.CV_16SC2)"
      ]
    },
    {
      "cell_type": "code",
      "source": [
        "print (Q)\n",
        "np.save ('Q.npy',Q)\n"
      ],
      "metadata": {
        "colab": {
          "base_uri": "https://localhost:8080/"
        },
        "id": "Rrdi2cTElk4G",
        "outputId": "c2edd8bb-8caf-4c52-97a4-701b672e0ac0"
      },
      "execution_count": 85,
      "outputs": [
        {
          "output_type": "stream",
          "name": "stdout",
          "text": [
            "[[ 1.00000000e+00  0.00000000e+00  0.00000000e+00 -2.46626215e+03]\n",
            " [ 0.00000000e+00  1.00000000e+00  0.00000000e+00 -8.50934520e+02]\n",
            " [ 0.00000000e+00  0.00000000e+00  0.00000000e+00  8.31336816e+03]\n",
            " [ 0.00000000e+00  0.00000000e+00  6.26649109e-02 -0.00000000e+00]]\n"
          ]
        }
      ]
    },
    {
      "cell_type": "code",
      "execution_count": 86,
      "metadata": {
        "colab": {
          "base_uri": "https://localhost:8080/"
        },
        "id": "1_twrQ76LRr1",
        "outputId": "20a72ac3-7b42-43f8-8e00-18f939c06815"
      },
      "outputs": [
        {
          "output_type": "stream",
          "name": "stdout",
          "text": [
            "total error: 0.33864423353847395\n"
          ]
        }
      ],
      "source": [
        "# Reprojection Error\n",
        "mean_error = 0\n",
        "\n",
        "for i in range(len(objpoints)):\n",
        "    imgpoints2, _ = cv2.projectPoints(objpoints[i], rvecsL[i], tvecsL[i], newCameraMatrixL, distL)\n",
        "    error = cv2.norm(imgpointsL[i], imgpoints2, cv2.NORM_L2)/len(imgpoints2)\n",
        "    mean_error += error\n",
        "\n",
        "print(\"total error: {}\".format(mean_error/len(objpoints)))"
      ]
    },
    {
      "cell_type": "code",
      "source": [
        "print(tvecsL)"
      ],
      "metadata": {
        "colab": {
          "base_uri": "https://localhost:8080/"
        },
        "id": "z8iz496yTOG3",
        "outputId": "62d92f6b-2dfb-4199-889e-3cc8b1a3cae0"
      },
      "execution_count": 87,
      "outputs": [
        {
          "output_type": "stream",
          "name": "stdout",
          "text": [
            "[array([[ -9.86073481],\n",
            "       [-14.98204996],\n",
            "       [354.72594811]]), array([[ -6.83546802],\n",
            "       [-16.27436919],\n",
            "       [367.42634626]]), array([[ -8.3982962 ],\n",
            "       [-17.24015954],\n",
            "       [375.28595011]]), array([[ -8.42047642],\n",
            "       [-17.27308936],\n",
            "       [375.24368237]]), array([[ -4.53209388],\n",
            "       [-14.79944335],\n",
            "       [366.98987999]]), array([[-12.23013802],\n",
            "       [-15.52236131],\n",
            "       [343.51727419]]), array([[ -9.80227976],\n",
            "       [-17.09100809],\n",
            "       [343.53707592]]), array([[ -7.25299917],\n",
            "       [-18.00056441],\n",
            "       [342.95559366]]), array([[-10.58887812],\n",
            "       [-14.83234291],\n",
            "       [343.53430579]]), array([[ -7.01589433],\n",
            "       [-14.50204177],\n",
            "       [353.94868542]]), array([[ -7.24006865],\n",
            "       [-12.73722142],\n",
            "       [351.80983132]]), array([[ -4.7484748 ],\n",
            "       [-12.03688324],\n",
            "       [359.20073534]]), array([[ -5.33335452],\n",
            "       [-16.84029305],\n",
            "       [371.63944881]]), array([[-15.96539896],\n",
            "       [-18.10501877],\n",
            "       [377.02745496]]), array([[ -2.85407298],\n",
            "       [-19.09345233],\n",
            "       [343.49680087]])]\n"
          ]
        }
      ]
    }
  ],
  "metadata": {
    "colab": {
      "collapsed_sections": [],
      "name": "Zeiss Trenion Camera Calibration",
      "provenance": [],
      "include_colab_link": true
    },
    "kernelspec": {
      "display_name": "Python 3",
      "name": "python3"
    },
    "language_info": {
      "name": "python"
    }
  },
  "nbformat": 4,
  "nbformat_minor": 0
}